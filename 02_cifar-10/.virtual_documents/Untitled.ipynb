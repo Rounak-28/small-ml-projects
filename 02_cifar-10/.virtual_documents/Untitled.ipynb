# This code cell is to get rid of annoying tensorflow warnings
import os
os.environ['TF_CPP_MIN_LOG_LEVEL'] = '2'


import tensorflow as tf
import numpy as np


from tensorflow.keras.datasets import cifar10


cols = ["airplane", "automobile", "bird", "cat", "deer", "dog", "frog", "horse", "ship", "truck"]


(X_train, y_train), (X_test_and_val, y_test_and_val) = cifar10.load_data()


X_train.shape, y_train.shape


from sklearn.model_selection import train_test_split

X_test, X_val, y_test, y_val = train_test_split(X_test_and_val, y_test_and_val, test_size=0.5, random_state=42)

X_train, X_test, X_val = X_train / 255, X_test / 255, X_val / 255


model = tf.keras.models.Sequential([
  tf.keras.layers.Flatten(input_shape=(32, 32, 3)),
  tf.keras.layers.Dense(512, activation='relu'),
  tf.keras.layers.Dropout(0.2),
  tf.keras.layers.Dense(256, activation='relu'),
  tf.keras.layers.Dropout(0.2),
  tf.keras.layers.Dense(128, activation='relu'),
  tf.keras.layers.Dropout(0.2),
  tf.keras.layers.Dense(10, activation='softmax')
])

model.compile(optimizer='adam',
              loss='sparse_categorical_crossentropy',
              metrics=['accuracy'])



model.fit(X_train, y_train, validation_data=(X_val, y_val), epochs=20, batch_size=64)


idk = np.argmax(model.predict(X_test), 1)


model.evaluate(X_test, y_test)


import matplotlib.pyplot as plt

fig = plt.figure(figsize=(12, 10))
columns = 5
rows = 4
for i in range(20):
    img = X_test[i]
    fig.add_subplot(rows, columns, i+1)
    plt.imshow(img)
    plt.title(cols[y_test[i].item()])
plt.show()



