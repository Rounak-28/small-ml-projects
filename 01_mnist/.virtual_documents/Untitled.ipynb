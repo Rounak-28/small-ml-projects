# This code cell is to get rid of annoying tensorflow warnings
import os
os.environ['TF_CPP_MIN_LOG_LEVEL'] = '2'


import pandas as pd
import numpy as np


train_data = pd.read_csv("train.csv")
test_data = pd.read_csv("test.csv")


test_data.head(2)


train_data.head(2)


X_train_df = train_data.drop("label", axis=1)
X_train = X_train_df.to_numpy() / 255


X_test = test_data.to_numpy() / 255


y_train_df = train_data["label"]
y_train = y_train_df.to_numpy()


import torch
from torch import nn


X_train = torch.tensor(X_train, dtype=torch.float)
X_test = torch.tensor(X_test, dtype=torch.float)
y_train = torch.tensor(y_train)


class NeuralNetwork(nn.Module):
    def __init__(self):
        super().__init__()
        self.linear_relu_stack = nn.Sequential(
            nn.Linear(28*28, 512),
            nn.ReLU(),
            nn.Linear(512, 512),
            nn.ReLU(),
            nn.Linear(512, 10),
            nn.LogSoftmax(dim=1)
        )

    def forward(self, x):
        logits = self.linear_relu_stack(x)
        return logits


model = NeuralNetwork()


loss_fn = nn.NLLLoss()
optimizer = torch.optim.Adam(model.parameters(), lr=1e-3)


def train():
    size = len(X_train)
    pred = model(X_train)
    loss = loss_fn(pred, y_train)

    # Backpropagation
    optimizer.zero_grad()
    loss.backward()
    optimizer.step()

    loss_idk, current = loss.item(), len(X_train)
    print(f"loss: {loss_idk:>7f}  [{current:>5d}/{size:>5d}]")


epochs = 10
for _ in range(epochs):
    train()


ans = torch.argmax(model(X_test), dim=1)
df_ans = pd.DataFrame({"ImageId": torch.arange(1, 28001), "Label": ans})
df_ans.to_csv("ans6.csv", index=None)











# import tensorflow as tf

# model = tf.keras.models.Sequential([
#   tf.keras.layers.Dense(128, activation='relu'),
#   tf.keras.layers.Dropout(0.2),
#   tf.keras.layers.Dense(10, activation="softmax")
# ])

# model.compile(optimizer='adam',
#               loss='sparse_categorical_crossentropy',
#               metrics=['accuracy'])



# model.fit(X_train, y_train, epochs=10)


# ans = np.argmax(model.predict(X_test), 1)
# df_ans = pd.DataFrame({"ImageId": np.arange(1, 28001), "Label": ans})
# df_ans.to_csv("ans1.csv", index=None)



