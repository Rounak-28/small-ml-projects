{
 "cells": [
  {
   "cell_type": "code",
   "execution_count": 1,
   "id": "984d85ca-c8d5-4f7a-8abf-91940dc780a5",
   "metadata": {},
   "outputs": [],
   "source": [
    "# This code cell is to get rid of annoying tensorflow warnings\n",
    "import os\n",
    "os.environ['TF_CPP_MIN_LOG_LEVEL'] = '2'"
   ]
  },
  {
   "cell_type": "code",
   "execution_count": 2,
   "id": "f743efc7-e886-41f8-9b13-c1112e9554f7",
   "metadata": {},
   "outputs": [],
   "source": [
    "import numpy as np\n",
    "import tensorflow as tf\n",
    "from tensorflow.keras.datasets import cifar10\n",
    "from sklearn.model_selection import train_test_split\n",
    "import matplotlib.pyplot as plt"
   ]
  },
  {
   "cell_type": "code",
   "execution_count": 3,
   "id": "dfdb8d5b-478b-451e-be31-e067d56a4fde",
   "metadata": {},
   "outputs": [],
   "source": [
    "(X_train, y_train), (X_test_and_val, y_test_and_val) = cifar10.load_data()\n",
    "\n",
    "X_test, X_val, y_test, y_val = train_test_split(X_test_and_val, y_test_and_val, test_size=0.5, random_state=42)"
   ]
  },
  {
   "cell_type": "code",
   "execution_count": null,
   "id": "6c65f32d-f5a8-48f4-9e30-06933f59ef7d",
   "metadata": {},
   "outputs": [],
   "source": []
  },
  {
   "cell_type": "code",
   "execution_count": 4,
   "id": "b4074a59-c06a-4776-a792-6b6a9531658d",
   "metadata": {},
   "outputs": [
    {
     "data": {
      "text/plain": [
       "<matplotlib.image.AxesImage at 0x7fb2daa89280>"
      ]
     },
     "execution_count": 4,
     "metadata": {},
     "output_type": "execute_result"
    },
    {
     "data": {
      "image/png": "[encoded data removed]",
      "text/plain": [
       "<Figure size 50x50 with 1 Axes>"
      ]
     },
     "metadata": {},
     "output_type": "display_data"
    }
   ],
   "source": [
    "plt.figure(figsize=(0.5, 0.5))\n",
    "plt.imshow(X_train[0])"
   ]
  },
  {
   "cell_type": "code",
   "execution_count": 5,
   "id": "57b6de88-1b6b-469c-aca6-b1594cfb4ce8",
   "metadata": {},
   "outputs": [],
   "source": [
    "X_train, X_test, X_val = X_train / 255.0, X_test / 255.0, X_val / 255.0"
   ]
  },
  {
   "cell_type": "code",
   "execution_count": null,
   "id": "edd7e275-08f6-47c6-bbd8-45a3fef923c1",
   "metadata": {},
   "outputs": [],
   "source": [
    "model.fit(X_train, y_train, validation_data=(X_val, y_val), epochs=20, batch_size=64)"
   ]
  },
  {
   "cell_type": "code",
   "execution_count": null,
   "id": "4f4c24ce-b4e4-4a88-ad2f-e77e6005a19c",
   "metadata": {},
   "outputs": [],
   "source": [
    "model.evaluate(X_test, y_test)"
   ]
  },
  {
   "cell_type": "code",
   "execution_count": null,
   "id": "f64c6d31-8798-4964-9551-4476e1ff6f23",
   "metadata": {},
   "outputs": [],
   "source": []
  },
  {
   "cell_type": "markdown",
   "id": "230be96f-a1fe-4a11-b51b-37b097997050",
   "metadata": {
    "tags": []
   },
   "source": [
    "# Convolutional network"
   ]
  },
  {
   "cell_type": "code",
   "execution_count": 6,
   "id": "4fdbaec4-a4a8-4d0b-af55-a55bc1732160",
   "metadata": {},
   "outputs": [],
   "source": [
    "cnn_model = tf.keras.Sequential([\n",
    "    tf.keras.layers.Conv2D(32, (3, 3), activation='relu', input_shape=(32, 32, 3)),\n",
    "    tf.keras.layers.MaxPooling2D((2, 2)),\n",
    "    tf.keras.layers.Conv2D(64, (3, 3), activation='relu'),\n",
    "    tf.keras.layers.MaxPooling2D((2, 2)),\n",
    "    tf.keras.layers.Conv2D(64, (3, 3), activation='relu'),\n",
    "    tf.keras.layers.Flatten(),\n",
    "    tf.keras.layers.Dense(64, activation='relu'),\n",
    "    tf.keras.layers.Dense(10, activation='softmax')\n",
    "])\n",
    "\n",
    "cnn_model.compile(optimizer='adam',\n",
    "              loss='sparse_categorical_crossentropy',\n",
    "              metrics=['accuracy'])\n"
   ]
  },
  {
   "cell_type": "code",
   "execution_count": 7,
   "id": "8b9b71d0-b6eb-4f2a-9f18-cdf808604005",
   "metadata": {},
   "outputs": [
    {
     "name": "stdout",
     "output_type": "stream",
     "text": [
      "Epoch 1/20\n",
      "782/782 [==============================] - 29s 36ms/step - loss: 1.5806 - accuracy: 0.4217 - val_loss: 1.3239 - val_accuracy: 0.5260\n",
      "Epoch 2/20\n",
      "782/782 [==============================] - 29s 37ms/step - loss: 1.2320 - accuracy: 0.5621 - val_loss: 1.1951 - val_accuracy: 0.5706\n",
      "Epoch 3/20\n",
      "782/782 [==============================] - 32s 40ms/step - loss: 1.0834 - accuracy: 0.6172 - val_loss: 1.1412 - val_accuracy: 0.6006\n",
      "Epoch 4/20\n",
      "782/782 [==============================] - 41s 53ms/step - loss: 0.9781 - accuracy: 0.6560 - val_loss: 0.9778 - val_accuracy: 0.6584\n",
      "Epoch 5/20\n",
      "782/782 [==============================] - 50s 64ms/step - loss: 0.9062 - accuracy: 0.6859 - val_loss: 1.0173 - val_accuracy: 0.6416\n",
      "Epoch 6/20\n",
      "782/782 [==============================] - 29s 37ms/step - loss: 0.8503 - accuracy: 0.7038 - val_loss: 0.9227 - val_accuracy: 0.6866\n",
      "Epoch 7/20\n",
      "782/782 [==============================] - 29s 37ms/step - loss: 0.7996 - accuracy: 0.7215 - val_loss: 0.8707 - val_accuracy: 0.7024\n",
      "Epoch 8/20\n",
      "782/782 [==============================] - 29s 36ms/step - loss: 0.7542 - accuracy: 0.7377 - val_loss: 0.8747 - val_accuracy: 0.6972\n",
      "Epoch 9/20\n",
      "782/782 [==============================] - 27s 35ms/step - loss: 0.7141 - accuracy: 0.7508 - val_loss: 0.8604 - val_accuracy: 0.6954\n",
      "Epoch 10/20\n",
      "782/782 [==============================] - 29s 38ms/step - loss: 0.6791 - accuracy: 0.7640 - val_loss: 0.9019 - val_accuracy: 0.6920\n",
      "Epoch 11/20\n",
      "782/782 [==============================] - 34s 44ms/step - loss: 0.6479 - accuracy: 0.7746 - val_loss: 0.8425 - val_accuracy: 0.7138\n",
      "Epoch 12/20\n",
      "782/782 [==============================] - 29s 37ms/step - loss: 0.6106 - accuracy: 0.7873 - val_loss: 0.8800 - val_accuracy: 0.7092\n",
      "Epoch 13/20\n",
      "782/782 [==============================] - 26s 33ms/step - loss: 0.5864 - accuracy: 0.7955 - val_loss: 0.8619 - val_accuracy: 0.7064\n",
      "Epoch 14/20\n",
      "782/782 [==============================] - 26s 34ms/step - loss: 0.5598 - accuracy: 0.8038 - val_loss: 0.8861 - val_accuracy: 0.7074\n",
      "Epoch 15/20\n",
      "782/782 [==============================] - 26s 34ms/step - loss: 0.5275 - accuracy: 0.8154 - val_loss: 0.8707 - val_accuracy: 0.7172\n",
      "Epoch 16/20\n",
      "782/782 [==============================] - 28s 35ms/step - loss: 0.5057 - accuracy: 0.8249 - val_loss: 0.9217 - val_accuracy: 0.7016\n",
      "Epoch 17/20\n",
      "782/782 [==============================] - 27s 34ms/step - loss: 0.4806 - accuracy: 0.8313 - val_loss: 0.9269 - val_accuracy: 0.7050\n",
      "Epoch 18/20\n",
      "782/782 [==============================] - 26s 34ms/step - loss: 0.4569 - accuracy: 0.8407 - val_loss: 0.9498 - val_accuracy: 0.7084\n",
      "Epoch 19/20\n",
      "782/782 [==============================] - 27s 35ms/step - loss: 0.4328 - accuracy: 0.8474 - val_loss: 0.9665 - val_accuracy: 0.7066\n",
      "Epoch 20/20\n",
      "782/782 [==============================] - 27s 34ms/step - loss: 0.4110 - accuracy: 0.8552 - val_loss: 1.0367 - val_accuracy: 0.6998\n"
     ]
    },
    {
     "data": {
      "text/plain": [
       "<keras.callbacks.History at 0x7fb2e2f937c0>"
      ]
     },
     "execution_count": 7,
     "metadata": {},
     "output_type": "execute_result"
    }
   ],
   "source": [
    "cnn_model.fit(X_train, y_train, validation_data=(X_val, y_val), epochs=20, batch_size=64)"
   ]
  },
  {
   "cell_type": "code",
   "execution_count": 8,
   "id": "6d28eca9-93f7-4a24-a12b-93e8caabad51",
   "metadata": {},
   "outputs": [
    {
     "name": "stdout",
     "output_type": "stream",
     "text": [
      "157/157 [==============================] - 1s 9ms/step - loss: 1.0448 - accuracy: 0.7018\n"
     ]
    },
    {
     "data": {
      "text/plain": [
       "[1.044823169708252, 0.7017999887466431]"
      ]
     },
     "execution_count": 8,
     "metadata": {},
     "output_type": "execute_result"
    }
   ],
   "source": [
    "cnn_model.evaluate(X_test, y_test)"
   ]
  },
  {
   "cell_type": "markdown",
   "id": "64426839-0d60-47fb-a9da-48dc9ec377d9",
   "metadata": {},
   "source": [
    "## accuracy is 70.18%"
   ]
  },
  {
   "cell_type": "code",
   "execution_count": null,
   "id": "1a9aecc6-6399-449e-a4f1-9e5d7d092b60",
   "metadata": {},
   "outputs": [],
   "source": []
  }
 ],
 "metadata": {
  "kernelspec": {
   "display_name": "Python 3 (ipykernel)",
   "language": "python",
   "name": "python3"
  },
  "language_info": {
   "codemirror_mode": {
    "name": "ipython",
    "version": 3
   },
   "file_extension": ".py",
   "mimetype": "text/x-python",
   "name": "python",
   "nbconvert_exporter": "python",
   "pygments_lexer": "ipython3",
   "version": "3.9.16"
  }
 },
 "nbformat": 4,
 "nbformat_minor": 5
}
