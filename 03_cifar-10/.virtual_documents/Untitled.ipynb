# This code cell is to get rid of annoying tensorflow warnings
import os
os.environ['TF_CPP_MIN_LOG_LEVEL'] = '2'


import numpy as np
import tensorflow as tf
from tensorflow.keras.datasets import cifar10
from sklearn.model_selection import train_test_split
import matplotlib.pyplot as plt


(X_train, y_train), (X_test_and_val, y_test_and_val) = cifar10.load_data()

X_test, X_val, y_test, y_val = train_test_split(X_test_and_val, y_test_and_val, test_size=0.5, random_state=42)





plt.figure(figsize=(0.5, 0.5))
plt.imshow(X_train[0])


X_train, X_test, X_val = X_train / 255.0, X_test / 255.0, X_val / 255.0


model.fit(X_train, y_train, validation_data=(X_val, y_val), epochs=20, batch_size=64)


model.evaluate(X_test, y_test)





cnn_model = tf.keras.Sequential([
    tf.keras.layers.Conv2D(32, (3, 3), activation='relu', input_shape=(32, 32, 3)),
    tf.keras.layers.MaxPooling2D((2, 2)),
    tf.keras.layers.Conv2D(64, (3, 3), activation='relu'),
    tf.keras.layers.MaxPooling2D((2, 2)),
    tf.keras.layers.Conv2D(64, (3, 3), activation='relu'),
    tf.keras.layers.Flatten(),
    tf.keras.layers.Dense(64, activation='relu'),
    tf.keras.layers.Dense(10, activation='softmax')
])

cnn_model.compile(optimizer='adam',
              loss='sparse_categorical_crossentropy',
              metrics=['accuracy'])



cnn_model.fit(X_train, y_train, validation_data=(X_val, y_val), epochs=20, batch_size=64)


cnn_model.evaluate(X_test, y_test)



